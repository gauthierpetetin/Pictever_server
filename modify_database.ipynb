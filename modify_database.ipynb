{
 "metadata": {
  "name": ""
 },
 "nbformat": 3,
 "nbformat_minor": 0,
 "worksheets": [
  {
   "cells": [
    {
     "cell_type": "code",
     "collapsed": false,
     "input": [
      "from instant_server.db import models\n",
      "models.connect()"
     ],
     "language": "python",
     "metadata": {},
     "outputs": [
      {
       "output_type": "stream",
       "stream": "stdout",
       "text": [
        "connecting to pictever database ...\n"
       ]
      }
     ],
     "prompt_number": 1
    },
    {
     "cell_type": "code",
     "collapsed": false,
     "input": [
<<<<<<< HEAD
      "nico = models.User.objects(email='nico.servel@gmail.com').first()\n",
      "print nico.email"
=======
      "u = models.User.objects().first()\n",
      "print u"
>>>>>>> notif_pictever_prod
     ],
     "language": "python",
     "metadata": {},
     "outputs": [
      {
       "output_type": "stream",
       "stream": "stdout",
       "text": [
<<<<<<< HEAD
        "nico.servel@gmail.com\n"
       ]
      }
     ],
     "prompt_number": 2
=======
        "User object\n"
       ]
      }
     ],
     "prompt_number": 9
>>>>>>> notif_pictever_prod
    },
    {
     "cell_type": "code",
     "collapsed": false,
     "input": [],
     "language": "python",
     "metadata": {},
     "outputs": [
      {
       "output_type": "stream",
       "stream": "stdout",
       "text": [
        "video_id \n",
        "video_id \n",
        "video_id \n",
        "video_id \n",
        "video_id \n",
        "video_id \n",
        "video_id \n",
        "video_id \n",
        "video_id \n",
        "video_id \n",
        "video_id \n",
        "video_id \n",
        "video_id \n",
        "video_id \n",
        "video_id \n",
        "video_id \n",
        "video_id \n",
        "video_id \n",
        "video_id \n",
        "video_id \n",
        "video_id \n",
        "video_id \n",
        "video_id \n",
        "video_id \n",
        "video_id \n"
       ]
      }
     ],
     "prompt_number": 9
    },
    {
     "cell_type": "code",
     "collapsed": false,
     "input": [
      "import time\n",
      "import datetime\n",
      "\n",
      "admin = models.User.objects(email=\"team@shyft-app.com\").first()\n",
      "delivery_option = models.SendChoice.objects(send_label__exact=' Send Now ')\n",
      "doption = {\"type\":str(delivery_option[0].id)}\n",
      "\n",
      "def send_message_to_user(u,message):\n",
      "    idmessage = models.Message.add_to_db(admin,message,\"id\"+str(u.id),\"\",doption)\n",
      "    m=models.Message.objects.with_id(idmessage)\n",
      "    m.delivery_time=datetime.datetime.fromtimestamp(time.time() - 3600)\n",
      "    m.save()"
     ],
     "language": "python",
     "metadata": {},
     "outputs": [],
     "prompt_number": 6
    },
    {
     "cell_type": "code",
     "collapsed": false,
     "input": [
      "send_message_to_user(gauthier,\"c'est bon l\u00e0 ?\")"
     ],
     "language": "python",
     "metadata": {},
     "outputs": [
      {
       "output_type": "stream",
       "stream": "stdout",
       "text": [
        "id detected\n",
        "-1.09672546387e-05\n",
        "saved message to db"
       ]
      },
      {
       "output_type": "stream",
       "stream": "stdout",
       "text": [
        "\n"
       ]
      }
     ],
     "prompt_number": 7
    },
    {
     "cell_type": "code",
     "collapsed": false,
     "input": [
      "for r in models.ReceiveLabel.objects():\n",
      "    print r.label + '[ ' + str(r.inf) + ' - ' +  str(r.sup) + ' ]'"
     ],
     "language": "python",
     "metadata": {},
     "outputs": [
      {
       "output_type": "stream",
       "stream": "stdout",
       "text": [
        "A few days earlier[ 86400 - 518399 ]\n",
        "A moment earlier[ -10 - 86399 ]\n",
        "1 week earlier[ 518400 - 863999 ]\n",
        "2 weeks earlier[ 864000 - 1468799 ]\n",
        "3 weeks earlier[ 1468800 - 2073599 ]\n",
        "1 month earlier[ 2073600 - 3888000 ]\n",
        "2 months earlier[ 3888001 - 6480000 ]\n",
        "3 months earlier[ 6480001 - 9072000 ]\n",
        "4 months earlier[ 9072001 - 11664000 ]\n",
        "5 months earlier[ 11664001 - 14256000 ]\n",
        "6 months earlier[ 14256001 - 16848000 ]\n",
        "7 months earlier[ 16848001 - 19440000 ]\n",
        "8 months earlier[ 19440001 - 22032000 ]\n",
        "9 months earlier[ 22032001 - 24624000 ]\n",
        "10 months earlier[ 24624001 - 27612256 ]\n",
        "1 year ago[ 27612257 - 47304000 ]\n",
        "2 years ago[ 47304001 - 78840000 ]\n",
        "3 years ago[ 78840001 - 110376000 ]\n",
        "4 years ago[ 110376001 - 140000000 ]\n",
        "Many years ago[ 140000001 - 15778432426 ]\n"
       ]
      }
     ],
     "prompt_number": 24
    },
    {
     "cell_type": "code",
     "collapsed": false,
     "input": [],
     "language": "python",
     "metadata": {},
     "outputs": []
    }
   ],
   "metadata": {}
  }
 ]
}